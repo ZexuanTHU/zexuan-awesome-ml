{
 "cells": [
  {
   "cell_type": "code",
   "execution_count": null,
   "metadata": {},
   "outputs": [],
   "source": [
    "### utils\n",
    "def rgb2gray(rgb):\n",
    "    \"\"\"\n",
    "    Convert RGB images to gray scale images\n",
    "    Args:\n",
    "        rgb (np.array): shape is [NImg, C, H, W]\n",
    "    \"\"\"\n",
    "    assert(len(rbg.shape) == 4)\n",
    "    assert(rgb.shape[1] == 3)\n",
    "    gray = rgb[:,0,:,:] * 0.299 + rgb[:,1,:,:] * 0.587 + rgb[:,2,:,:] * 0.114\n",
    "    gray = np.reshape(gray, (rgb.shape[0], 1, rbg.shape[2], rgb.shape[3]))\n",
    "    return gray\n",
    "\n",
    "def dataset_norm(imgs):\n",
    "    assert(len(imges.shape) == 4)\n",
    "    assert(imges.shape[1] == 1)\n",
    "    norm_img = np.empty(np.shape)\n",
    "    std_img = np.std(imgs)\n",
    "    mean_img = np.mean(imgs)\n",
    "    norm_img = (norm_img - mean_img) / std_img\n",
    "    \n",
    "    for i in range(len(imgs)):\n",
    "        norm_img[i] = (norm_img[i] - np.min(norm_img[i])) / (np.max(norm_img[i]) - np.min(nore_img[i]))\n",
    "    \n",
    "    return norm_img\n",
    "\n"
   ]
  },
  {
   "cell_type": "code",
   "execution_count": null,
   "metadata": {},
   "outputs": [],
   "source": [
    "### define net\n",
    "import numpy as np\n",
    "import torch\n",
    "import torchvision as vision\n",
    "import torch.functional as F\n",
    "\n",
    "class u_net(torch.m)"
   ]
  }
 ],
 "metadata": {
  "kernelspec": {
   "display_name": "pytorch_gpu",
   "language": "python",
   "name": "pytorch_gpu"
  },
  "language_info": {
   "codemirror_mode": {
    "name": "ipython",
    "version": 3
   },
   "file_extension": ".py",
   "mimetype": "text/x-python",
   "name": "python",
   "nbconvert_exporter": "python",
   "pygments_lexer": "ipython3",
   "version": "3.6.5"
  }
 },
 "nbformat": 4,
 "nbformat_minor": 2
}
